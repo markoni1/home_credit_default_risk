{
 "cells": [
  {
   "cell_type": "code",
   "execution_count": 1,
   "metadata": {
    "ExecuteTime": {
     "end_time": "2020-03-27T21:10:56.548584Z",
     "start_time": "2020-03-27T21:10:55.815011Z"
    }
   },
   "outputs": [],
   "source": [
    "import pandas as pd\n",
    "import numpy as np"
   ]
  },
  {
   "cell_type": "code",
   "execution_count": 2,
   "metadata": {
    "ExecuteTime": {
     "end_time": "2020-03-27T21:10:56.895317Z",
     "start_time": "2020-03-27T21:10:56.550926Z"
    }
   },
   "outputs": [],
   "source": [
    "%store -r df\n",
    "%store -r df_credit\n",
    "%store -r df_credit_bureau\n"
   ]
  },
  {
   "cell_type": "markdown",
   "metadata": {},
   "source": [
    "# Merging the different datasets to train dataset\n",
    "\n",
    "We got different datasets where we did some feature engineering. This notebook is for merging it all together in one notebook. We will use the SK_ID_CURR column which is unique for every application"
   ]
  },
  {
   "cell_type": "code",
   "execution_count": 3,
   "metadata": {
    "ExecuteTime": {
     "end_time": "2020-03-27T21:10:57.225774Z",
     "start_time": "2020-03-27T21:10:56.911035Z"
    }
   },
   "outputs": [],
   "source": [
    "#merging the credit-dataset / credit-ratio\n",
    "df_credit = pd.merge(df,df_credit, how=\"left\", on=\"SK_ID_CURR\")\n",
    "\n"
   ]
  },
  {
   "cell_type": "code",
   "execution_count": 4,
   "metadata": {
    "ExecuteTime": {
     "end_time": "2020-03-27T21:10:57.543463Z",
     "start_time": "2020-03-27T21:10:57.230016Z"
    }
   },
   "outputs": [],
   "source": [
    "# merging the credit bureau dataset\n",
    "\n",
    "df_all_rows = pd.merge(df_credit,df_credit_bureau, how=\"left\", on=\"SK_ID_CURR\")"
   ]
  },
  {
   "cell_type": "code",
   "execution_count": 5,
   "metadata": {
    "ExecuteTime": {
     "end_time": "2020-03-27T21:10:57.768777Z",
     "start_time": "2020-03-27T21:10:57.546358Z"
    }
   },
   "outputs": [
    {
     "data": {
      "text/html": [
       "<div>\n",
       "<style scoped>\n",
       "    .dataframe tbody tr th:only-of-type {\n",
       "        vertical-align: middle;\n",
       "    }\n",
       "\n",
       "    .dataframe tbody tr th {\n",
       "        vertical-align: top;\n",
       "    }\n",
       "\n",
       "    .dataframe thead th {\n",
       "        text-align: right;\n",
       "    }\n",
       "</style>\n",
       "<table border=\"1\" class=\"dataframe\">\n",
       "  <thead>\n",
       "    <tr style=\"text-align: right;\">\n",
       "      <th></th>\n",
       "      <th>SK_ID_CURR</th>\n",
       "      <th>TARGET</th>\n",
       "      <th>CNT_CHILDREN</th>\n",
       "      <th>AMT_CREDIT</th>\n",
       "      <th>REGION_POPULATION_RELATIVE</th>\n",
       "      <th>DAYS_BIRTH</th>\n",
       "      <th>DAYS_EMPLOYED</th>\n",
       "      <th>DAYS_REGISTRATION</th>\n",
       "      <th>DAYS_ID_PUBLISH</th>\n",
       "      <th>FLAG_PHONE</th>\n",
       "      <th>...</th>\n",
       "      <th>MONTHS_BALANCE</th>\n",
       "      <th>CREDIT_RATIO</th>\n",
       "      <th>STATUS_0</th>\n",
       "      <th>STATUS_1</th>\n",
       "      <th>STATUS_2</th>\n",
       "      <th>STATUS_3</th>\n",
       "      <th>STATUS_4</th>\n",
       "      <th>STATUS_5</th>\n",
       "      <th>STATUS_C</th>\n",
       "      <th>STATUS_X</th>\n",
       "    </tr>\n",
       "  </thead>\n",
       "  <tbody>\n",
       "    <tr>\n",
       "      <th>56070</th>\n",
       "      <td>164990</td>\n",
       "      <td>0</td>\n",
       "      <td>0</td>\n",
       "      <td>675000.0</td>\n",
       "      <td>0.028663</td>\n",
       "      <td>-20111</td>\n",
       "      <td>365243</td>\n",
       "      <td>-2717.0</td>\n",
       "      <td>-3583</td>\n",
       "      <td>0</td>\n",
       "      <td>...</td>\n",
       "      <td>NaN</td>\n",
       "      <td>NaN</td>\n",
       "      <td>6.0</td>\n",
       "      <td>0.0</td>\n",
       "      <td>0.0</td>\n",
       "      <td>0.0</td>\n",
       "      <td>0.0</td>\n",
       "      <td>0.0</td>\n",
       "      <td>33.0</td>\n",
       "      <td>0.0</td>\n",
       "    </tr>\n",
       "    <tr>\n",
       "      <th>155752</th>\n",
       "      <td>280571</td>\n",
       "      <td>0</td>\n",
       "      <td>3</td>\n",
       "      <td>851778.0</td>\n",
       "      <td>0.010643</td>\n",
       "      <td>-13059</td>\n",
       "      <td>-4586</td>\n",
       "      <td>-4203.0</td>\n",
       "      <td>-1073</td>\n",
       "      <td>1</td>\n",
       "      <td>...</td>\n",
       "      <td>NaN</td>\n",
       "      <td>NaN</td>\n",
       "      <td>NaN</td>\n",
       "      <td>NaN</td>\n",
       "      <td>NaN</td>\n",
       "      <td>NaN</td>\n",
       "      <td>NaN</td>\n",
       "      <td>NaN</td>\n",
       "      <td>NaN</td>\n",
       "      <td>NaN</td>\n",
       "    </tr>\n",
       "    <tr>\n",
       "      <th>34257</th>\n",
       "      <td>139701</td>\n",
       "      <td>0</td>\n",
       "      <td>2</td>\n",
       "      <td>840996.0</td>\n",
       "      <td>0.031329</td>\n",
       "      <td>-18228</td>\n",
       "      <td>-944</td>\n",
       "      <td>-1511.0</td>\n",
       "      <td>-1502</td>\n",
       "      <td>0</td>\n",
       "      <td>...</td>\n",
       "      <td>NaN</td>\n",
       "      <td>NaN</td>\n",
       "      <td>NaN</td>\n",
       "      <td>NaN</td>\n",
       "      <td>NaN</td>\n",
       "      <td>NaN</td>\n",
       "      <td>NaN</td>\n",
       "      <td>NaN</td>\n",
       "      <td>NaN</td>\n",
       "      <td>NaN</td>\n",
       "    </tr>\n",
       "    <tr>\n",
       "      <th>237187</th>\n",
       "      <td>374766</td>\n",
       "      <td>0</td>\n",
       "      <td>0</td>\n",
       "      <td>238500.0</td>\n",
       "      <td>0.015221</td>\n",
       "      <td>-12136</td>\n",
       "      <td>-1137</td>\n",
       "      <td>-511.0</td>\n",
       "      <td>-3250</td>\n",
       "      <td>0</td>\n",
       "      <td>...</td>\n",
       "      <td>NaN</td>\n",
       "      <td>NaN</td>\n",
       "      <td>NaN</td>\n",
       "      <td>NaN</td>\n",
       "      <td>NaN</td>\n",
       "      <td>NaN</td>\n",
       "      <td>NaN</td>\n",
       "      <td>NaN</td>\n",
       "      <td>NaN</td>\n",
       "      <td>NaN</td>\n",
       "    </tr>\n",
       "    <tr>\n",
       "      <th>244619</th>\n",
       "      <td>383158</td>\n",
       "      <td>0</td>\n",
       "      <td>0</td>\n",
       "      <td>270000.0</td>\n",
       "      <td>0.014520</td>\n",
       "      <td>-14768</td>\n",
       "      <td>-1802</td>\n",
       "      <td>-694.0</td>\n",
       "      <td>-4221</td>\n",
       "      <td>0</td>\n",
       "      <td>...</td>\n",
       "      <td>NaN</td>\n",
       "      <td>NaN</td>\n",
       "      <td>NaN</td>\n",
       "      <td>NaN</td>\n",
       "      <td>NaN</td>\n",
       "      <td>NaN</td>\n",
       "      <td>NaN</td>\n",
       "      <td>NaN</td>\n",
       "      <td>NaN</td>\n",
       "      <td>NaN</td>\n",
       "    </tr>\n",
       "    <tr>\n",
       "      <th>38868</th>\n",
       "      <td>145029</td>\n",
       "      <td>0</td>\n",
       "      <td>0</td>\n",
       "      <td>808650.0</td>\n",
       "      <td>0.019689</td>\n",
       "      <td>-22775</td>\n",
       "      <td>365243</td>\n",
       "      <td>-9059.0</td>\n",
       "      <td>-4496</td>\n",
       "      <td>1</td>\n",
       "      <td>...</td>\n",
       "      <td>-4.0</td>\n",
       "      <td>0.501584</td>\n",
       "      <td>NaN</td>\n",
       "      <td>NaN</td>\n",
       "      <td>NaN</td>\n",
       "      <td>NaN</td>\n",
       "      <td>NaN</td>\n",
       "      <td>NaN</td>\n",
       "      <td>NaN</td>\n",
       "      <td>NaN</td>\n",
       "    </tr>\n",
       "    <tr>\n",
       "      <th>279347</th>\n",
       "      <td>423637</td>\n",
       "      <td>0</td>\n",
       "      <td>0</td>\n",
       "      <td>545040.0</td>\n",
       "      <td>0.035792</td>\n",
       "      <td>-16932</td>\n",
       "      <td>-1872</td>\n",
       "      <td>-2851.0</td>\n",
       "      <td>-480</td>\n",
       "      <td>0</td>\n",
       "      <td>...</td>\n",
       "      <td>NaN</td>\n",
       "      <td>NaN</td>\n",
       "      <td>48.0</td>\n",
       "      <td>0.0</td>\n",
       "      <td>0.0</td>\n",
       "      <td>0.0</td>\n",
       "      <td>0.0</td>\n",
       "      <td>0.0</td>\n",
       "      <td>3.0</td>\n",
       "      <td>2.0</td>\n",
       "    </tr>\n",
       "    <tr>\n",
       "      <th>199766</th>\n",
       "      <td>331619</td>\n",
       "      <td>0</td>\n",
       "      <td>0</td>\n",
       "      <td>547344.0</td>\n",
       "      <td>0.018029</td>\n",
       "      <td>-17943</td>\n",
       "      <td>-10787</td>\n",
       "      <td>-2829.0</td>\n",
       "      <td>-1485</td>\n",
       "      <td>0</td>\n",
       "      <td>...</td>\n",
       "      <td>NaN</td>\n",
       "      <td>NaN</td>\n",
       "      <td>NaN</td>\n",
       "      <td>NaN</td>\n",
       "      <td>NaN</td>\n",
       "      <td>NaN</td>\n",
       "      <td>NaN</td>\n",
       "      <td>NaN</td>\n",
       "      <td>NaN</td>\n",
       "      <td>NaN</td>\n",
       "    </tr>\n",
       "    <tr>\n",
       "      <th>284627</th>\n",
       "      <td>429686</td>\n",
       "      <td>0</td>\n",
       "      <td>0</td>\n",
       "      <td>513040.5</td>\n",
       "      <td>0.018634</td>\n",
       "      <td>-16622</td>\n",
       "      <td>-3467</td>\n",
       "      <td>-8666.0</td>\n",
       "      <td>-161</td>\n",
       "      <td>0</td>\n",
       "      <td>...</td>\n",
       "      <td>NaN</td>\n",
       "      <td>NaN</td>\n",
       "      <td>26.0</td>\n",
       "      <td>0.0</td>\n",
       "      <td>0.0</td>\n",
       "      <td>0.0</td>\n",
       "      <td>0.0</td>\n",
       "      <td>0.0</td>\n",
       "      <td>46.0</td>\n",
       "      <td>0.0</td>\n",
       "    </tr>\n",
       "    <tr>\n",
       "      <th>16076</th>\n",
       "      <td>118757</td>\n",
       "      <td>0</td>\n",
       "      <td>2</td>\n",
       "      <td>900000.0</td>\n",
       "      <td>0.030755</td>\n",
       "      <td>-12099</td>\n",
       "      <td>-3788</td>\n",
       "      <td>-1487.0</td>\n",
       "      <td>-4773</td>\n",
       "      <td>1</td>\n",
       "      <td>...</td>\n",
       "      <td>NaN</td>\n",
       "      <td>NaN</td>\n",
       "      <td>NaN</td>\n",
       "      <td>NaN</td>\n",
       "      <td>NaN</td>\n",
       "      <td>NaN</td>\n",
       "      <td>NaN</td>\n",
       "      <td>NaN</td>\n",
       "      <td>NaN</td>\n",
       "      <td>NaN</td>\n",
       "    </tr>\n",
       "  </tbody>\n",
       "</table>\n",
       "<p>10 rows × 76 columns</p>\n",
       "</div>"
      ],
      "text/plain": [
       "        SK_ID_CURR  TARGET  CNT_CHILDREN  AMT_CREDIT  \\\n",
       "56070       164990       0             0    675000.0   \n",
       "155752      280571       0             3    851778.0   \n",
       "34257       139701       0             2    840996.0   \n",
       "237187      374766       0             0    238500.0   \n",
       "244619      383158       0             0    270000.0   \n",
       "38868       145029       0             0    808650.0   \n",
       "279347      423637       0             0    545040.0   \n",
       "199766      331619       0             0    547344.0   \n",
       "284627      429686       0             0    513040.5   \n",
       "16076       118757       0             2    900000.0   \n",
       "\n",
       "        REGION_POPULATION_RELATIVE  DAYS_BIRTH  DAYS_EMPLOYED  \\\n",
       "56070                     0.028663      -20111         365243   \n",
       "155752                    0.010643      -13059          -4586   \n",
       "34257                     0.031329      -18228           -944   \n",
       "237187                    0.015221      -12136          -1137   \n",
       "244619                    0.014520      -14768          -1802   \n",
       "38868                     0.019689      -22775         365243   \n",
       "279347                    0.035792      -16932          -1872   \n",
       "199766                    0.018029      -17943         -10787   \n",
       "284627                    0.018634      -16622          -3467   \n",
       "16076                     0.030755      -12099          -3788   \n",
       "\n",
       "        DAYS_REGISTRATION  DAYS_ID_PUBLISH  FLAG_PHONE  ...  MONTHS_BALANCE  \\\n",
       "56070             -2717.0            -3583           0  ...             NaN   \n",
       "155752            -4203.0            -1073           1  ...             NaN   \n",
       "34257             -1511.0            -1502           0  ...             NaN   \n",
       "237187             -511.0            -3250           0  ...             NaN   \n",
       "244619             -694.0            -4221           0  ...             NaN   \n",
       "38868             -9059.0            -4496           1  ...            -4.0   \n",
       "279347            -2851.0             -480           0  ...             NaN   \n",
       "199766            -2829.0            -1485           0  ...             NaN   \n",
       "284627            -8666.0             -161           0  ...             NaN   \n",
       "16076             -1487.0            -4773           1  ...             NaN   \n",
       "\n",
       "        CREDIT_RATIO  STATUS_0  STATUS_1  STATUS_2  STATUS_3  STATUS_4  \\\n",
       "56070            NaN       6.0       0.0       0.0       0.0       0.0   \n",
       "155752           NaN       NaN       NaN       NaN       NaN       NaN   \n",
       "34257            NaN       NaN       NaN       NaN       NaN       NaN   \n",
       "237187           NaN       NaN       NaN       NaN       NaN       NaN   \n",
       "244619           NaN       NaN       NaN       NaN       NaN       NaN   \n",
       "38868       0.501584       NaN       NaN       NaN       NaN       NaN   \n",
       "279347           NaN      48.0       0.0       0.0       0.0       0.0   \n",
       "199766           NaN       NaN       NaN       NaN       NaN       NaN   \n",
       "284627           NaN      26.0       0.0       0.0       0.0       0.0   \n",
       "16076            NaN       NaN       NaN       NaN       NaN       NaN   \n",
       "\n",
       "        STATUS_5  STATUS_C  STATUS_X  \n",
       "56070        0.0      33.0       0.0  \n",
       "155752       NaN       NaN       NaN  \n",
       "34257        NaN       NaN       NaN  \n",
       "237187       NaN       NaN       NaN  \n",
       "244619       NaN       NaN       NaN  \n",
       "38868        NaN       NaN       NaN  \n",
       "279347       0.0       3.0       2.0  \n",
       "199766       NaN       NaN       NaN  \n",
       "284627       0.0      46.0       0.0  \n",
       "16076        NaN       NaN       NaN  \n",
       "\n",
       "[10 rows x 76 columns]"
      ]
     },
     "execution_count": 5,
     "metadata": {},
     "output_type": "execute_result"
    }
   ],
   "source": [
    "df_all_rows.sample(10)"
   ]
  },
  {
   "cell_type": "markdown",
   "metadata": {},
   "source": [
    "# Merging Test-dataset"
   ]
  },
  {
   "cell_type": "code",
   "execution_count": 6,
   "metadata": {
    "ExecuteTime": {
     "end_time": "2020-03-27T21:11:07.285712Z",
     "start_time": "2020-03-27T21:10:57.800160Z"
    }
   },
   "outputs": [],
   "source": [
    "test_df  = pd.read_csv(\"data/application_train.csv\")\n"
   ]
  },
  {
   "cell_type": "code",
   "execution_count": 7,
   "metadata": {
    "ExecuteTime": {
     "end_time": "2020-03-27T21:11:07.307296Z",
     "start_time": "2020-03-27T21:11:07.303278Z"
    }
   },
   "outputs": [],
   "source": [
    "# only the colums of our train dataset are interesting\n",
    "\n",
    "cols = df.columns.tolist()\n",
    "\n",
    "#test_df[cols]\n"
   ]
  },
  {
   "cell_type": "markdown",
   "metadata": {},
   "source": [
    "# Splitting into two datasets\n",
    "\n",
    "Here we split into two datasets. One small dataset which only takes full information into account (df_full_info)\n",
    "and one where we fill the missing values (df_all_rows)"
   ]
  },
  {
   "cell_type": "code",
   "execution_count": 8,
   "metadata": {
    "ExecuteTime": {
     "end_time": "2020-03-27T21:11:09.186152Z",
     "start_time": "2020-03-27T21:11:07.320099Z"
    }
   },
   "outputs": [
    {
     "data": {
      "text/html": [
       "<div>\n",
       "<style scoped>\n",
       "    .dataframe tbody tr th:only-of-type {\n",
       "        vertical-align: middle;\n",
       "    }\n",
       "\n",
       "    .dataframe tbody tr th {\n",
       "        vertical-align: top;\n",
       "    }\n",
       "\n",
       "    .dataframe thead th {\n",
       "        text-align: right;\n",
       "    }\n",
       "</style>\n",
       "<table border=\"1\" class=\"dataframe\">\n",
       "  <thead>\n",
       "    <tr style=\"text-align: right;\">\n",
       "      <th></th>\n",
       "      <th>SK_ID_CURR</th>\n",
       "      <th>CNT_CHILDREN</th>\n",
       "      <th>AMT_CREDIT</th>\n",
       "      <th>REGION_POPULATION_RELATIVE</th>\n",
       "      <th>DAYS_BIRTH</th>\n",
       "      <th>DAYS_EMPLOYED</th>\n",
       "      <th>DAYS_REGISTRATION</th>\n",
       "      <th>DAYS_ID_PUBLISH</th>\n",
       "      <th>FLAG_PHONE</th>\n",
       "      <th>FLAG_EMAIL</th>\n",
       "      <th>...</th>\n",
       "      <th>MONTHS_BALANCE</th>\n",
       "      <th>CREDIT_RATIO</th>\n",
       "      <th>STATUS_0</th>\n",
       "      <th>STATUS_1</th>\n",
       "      <th>STATUS_2</th>\n",
       "      <th>STATUS_3</th>\n",
       "      <th>STATUS_4</th>\n",
       "      <th>STATUS_5</th>\n",
       "      <th>STATUS_C</th>\n",
       "      <th>STATUS_X</th>\n",
       "    </tr>\n",
       "    <tr>\n",
       "      <th>TARGET</th>\n",
       "      <th></th>\n",
       "      <th></th>\n",
       "      <th></th>\n",
       "      <th></th>\n",
       "      <th></th>\n",
       "      <th></th>\n",
       "      <th></th>\n",
       "      <th></th>\n",
       "      <th></th>\n",
       "      <th></th>\n",
       "      <th></th>\n",
       "      <th></th>\n",
       "      <th></th>\n",
       "      <th></th>\n",
       "      <th></th>\n",
       "      <th></th>\n",
       "      <th></th>\n",
       "      <th></th>\n",
       "      <th></th>\n",
       "      <th></th>\n",
       "      <th></th>\n",
       "    </tr>\n",
       "  </thead>\n",
       "  <tbody>\n",
       "    <tr>\n",
       "      <th>0</th>\n",
       "      <td>278506.344271</td>\n",
       "      <td>0.417232</td>\n",
       "      <td>592262.603156</td>\n",
       "      <td>0.021751</td>\n",
       "      <td>-16084.310758</td>\n",
       "      <td>54294.185998</td>\n",
       "      <td>-4955.803312</td>\n",
       "      <td>-3062.067099</td>\n",
       "      <td>0.281190</td>\n",
       "      <td>0.123028</td>\n",
       "      <td>...</td>\n",
       "      <td>-20.616137</td>\n",
       "      <td>0.296807</td>\n",
       "      <td>57.398134</td>\n",
       "      <td>1.711842</td>\n",
       "      <td>0.163730</td>\n",
       "      <td>0.056371</td>\n",
       "      <td>0.038785</td>\n",
       "      <td>0.396033</td>\n",
       "      <td>81.728875</td>\n",
       "      <td>33.199159</td>\n",
       "    </tr>\n",
       "    <tr>\n",
       "      <th>1</th>\n",
       "      <td>277838.659464</td>\n",
       "      <td>0.480192</td>\n",
       "      <td>552755.128451</td>\n",
       "      <td>0.019795</td>\n",
       "      <td>-15141.823930</td>\n",
       "      <td>34092.358543</td>\n",
       "      <td>-4431.008804</td>\n",
       "      <td>-2853.392157</td>\n",
       "      <td>0.234094</td>\n",
       "      <td>0.112845</td>\n",
       "      <td>...</td>\n",
       "      <td>-17.130456</td>\n",
       "      <td>0.443226</td>\n",
       "      <td>54.242097</td>\n",
       "      <td>1.941176</td>\n",
       "      <td>0.190476</td>\n",
       "      <td>0.074830</td>\n",
       "      <td>0.056022</td>\n",
       "      <td>0.456583</td>\n",
       "      <td>63.946379</td>\n",
       "      <td>28.708283</td>\n",
       "    </tr>\n",
       "  </tbody>\n",
       "</table>\n",
       "<p>2 rows × 75 columns</p>\n",
       "</div>"
      ],
      "text/plain": [
       "           SK_ID_CURR  CNT_CHILDREN     AMT_CREDIT  \\\n",
       "TARGET                                               \n",
       "0       278506.344271      0.417232  592262.603156   \n",
       "1       277838.659464      0.480192  552755.128451   \n",
       "\n",
       "        REGION_POPULATION_RELATIVE    DAYS_BIRTH  DAYS_EMPLOYED  \\\n",
       "TARGET                                                            \n",
       "0                         0.021751 -16084.310758   54294.185998   \n",
       "1                         0.019795 -15141.823930   34092.358543   \n",
       "\n",
       "        DAYS_REGISTRATION  DAYS_ID_PUBLISH  FLAG_PHONE  FLAG_EMAIL  ...  \\\n",
       "TARGET                                                              ...   \n",
       "0            -4955.803312     -3062.067099    0.281190    0.123028  ...   \n",
       "1            -4431.008804     -2853.392157    0.234094    0.112845  ...   \n",
       "\n",
       "        MONTHS_BALANCE  CREDIT_RATIO   STATUS_0  STATUS_1  STATUS_2  STATUS_3  \\\n",
       "TARGET                                                                          \n",
       "0           -20.616137      0.296807  57.398134  1.711842  0.163730  0.056371   \n",
       "1           -17.130456      0.443226  54.242097  1.941176  0.190476  0.074830   \n",
       "\n",
       "        STATUS_4  STATUS_5   STATUS_C   STATUS_X  \n",
       "TARGET                                            \n",
       "0       0.038785  0.396033  81.728875  33.199159  \n",
       "1       0.056022  0.456583  63.946379  28.708283  \n",
       "\n",
       "[2 rows x 75 columns]"
      ]
     },
     "execution_count": 8,
     "metadata": {},
     "output_type": "execute_result"
    }
   ],
   "source": [
    "df_full_info = df_all_rows.dropna()\n",
    "\n",
    "df_full_info.groupby(\"TARGET\").mean()"
   ]
  },
  {
   "cell_type": "code",
   "execution_count": 9,
   "metadata": {
    "ExecuteTime": {
     "end_time": "2020-03-27T21:11:09.380551Z",
     "start_time": "2020-03-27T21:11:09.219939Z"
    }
   },
   "outputs": [
    {
     "name": "stderr",
     "output_type": "stream",
     "text": [
      "/Users/marcelmeyer/opt/anaconda3/envs/nf/lib/python3.6/site-packages/pandas/core/frame.py:3940: SettingWithCopyWarning: \n",
      "A value is trying to be set on a copy of a slice from a DataFrame\n",
      "\n",
      "See the caveats in the documentation: http://pandas.pydata.org/pandas-docs/stable/indexing.html#indexing-view-versus-copy\n",
      "  errors=errors)\n"
     ]
    },
    {
     "data": {
      "text/plain": [
       "(29623, 75)"
      ]
     },
     "execution_count": 9,
     "metadata": {},
     "output_type": "execute_result"
    }
   ],
   "source": [
    "df_full_info.drop(\"SK_ID_CURR\", axis = 1, inplace=True)\n",
    "df_full_info.head()\n",
    "df_full_info.shape"
   ]
  },
  {
   "cell_type": "code",
   "execution_count": 10,
   "metadata": {
    "ExecuteTime": {
     "end_time": "2020-03-27T21:11:09.526220Z",
     "start_time": "2020-03-27T21:11:09.398017Z"
    }
   },
   "outputs": [
    {
     "name": "stderr",
     "output_type": "stream",
     "text": [
      "/Users/marcelmeyer/opt/anaconda3/envs/nf/lib/python3.6/site-packages/ipykernel_launcher.py:1: SettingWithCopyWarning: \n",
      "A value is trying to be set on a copy of a slice from a DataFrame\n",
      "\n",
      "See the caveats in the documentation: http://pandas.pydata.org/pandas-docs/stable/indexing.html#indexing-view-versus-copy\n",
      "  \"\"\"Entry point for launching an IPython kernel.\n"
     ]
    }
   ],
   "source": [
    "df_full_info.dropna(inplace=True)"
   ]
  },
  {
   "cell_type": "code",
   "execution_count": 11,
   "metadata": {
    "ExecuteTime": {
     "end_time": "2020-03-27T21:11:12.953131Z",
     "start_time": "2020-03-27T21:11:09.531528Z"
    }
   },
   "outputs": [
    {
     "data": {
      "text/plain": [
       "<matplotlib.axes._subplots.AxesSubplot at 0x12bee8470>"
      ]
     },
     "execution_count": 11,
     "metadata": {},
     "output_type": "execute_result"
    },
    {
     "data": {
      "image/png": "[encoded data removed]",
      "text/plain": [
       "<Figure size 1800x720 with 2 Axes>"
      ]
     },
     "metadata": {
      "needs_background": "light"
     },
     "output_type": "display_data"
    }
   ],
   "source": [
    "import missingno as msno\n",
    "msno.matrix(df_full_info)"
   ]
  },
  {
   "cell_type": "code",
   "execution_count": 12,
   "metadata": {
    "ExecuteTime": {
     "end_time": "2020-03-27T21:11:13.010378Z",
     "start_time": "2020-03-27T21:11:12.974080Z"
    }
   },
   "outputs": [
    {
     "data": {
      "text/plain": [
       "TARGET                                     int64\n",
       "CNT_CHILDREN                               int64\n",
       "AMT_CREDIT                               float64\n",
       "REGION_POPULATION_RELATIVE               float64\n",
       "DAYS_BIRTH                                 int64\n",
       "DAYS_EMPLOYED                              int64\n",
       "DAYS_REGISTRATION                        float64\n",
       "DAYS_ID_PUBLISH                            int64\n",
       "FLAG_PHONE                                 int64\n",
       "FLAG_EMAIL                                 int64\n",
       "CNT_FAM_MEMBERS                          float64\n",
       "LIVE_CITY_NOT_WORK_CITY                    int64\n",
       "DAYS_LAST_PHONE_CHANGE                   float64\n",
       "AMT_REQ_CREDIT_BUREAU_YEAR               float64\n",
       "EXT_SOURCE_AVG                           float64\n",
       "ANNUITY_INCOME_RAT                       float64\n",
       "SOCIAL_CIRCLE_AVG                        float64\n",
       "REGION_RATING_BOOST                        int64\n",
       "REGION_MISMATCH                            int64\n",
       "AMT_REQ_CREDIT_BUREAU_QUARTER_SUM        float64\n",
       "TECH_SCORE                                 int64\n",
       "NAME_CONTRACT_TYPE_Revolving loans         uint8\n",
       "CODE_GENDER_M                              uint8\n",
       "CODE_GENDER_XNA                            uint8\n",
       "NAME_TYPE_SUITE_Family                     uint8\n",
       "NAME_TYPE_SUITE_Group of people            uint8\n",
       "NAME_TYPE_SUITE_Other_A                    uint8\n",
       "NAME_TYPE_SUITE_Other_B                    uint8\n",
       "NAME_TYPE_SUITE_Spouse, partner            uint8\n",
       "NAME_TYPE_SUITE_Unaccompanied              uint8\n",
       "                                          ...   \n",
       "NAME_HOUSING_TYPE_Rented apartment         uint8\n",
       "NAME_HOUSING_TYPE_With parents             uint8\n",
       "OCCUPATION_TYPE_Cleaning staff             uint8\n",
       "OCCUPATION_TYPE_Cooking staff              uint8\n",
       "OCCUPATION_TYPE_Core staff                 uint8\n",
       "OCCUPATION_TYPE_Drivers                    uint8\n",
       "OCCUPATION_TYPE_HR staff                   uint8\n",
       "OCCUPATION_TYPE_High skill tech staff      uint8\n",
       "OCCUPATION_TYPE_IT staff                   uint8\n",
       "OCCUPATION_TYPE_Laborers                   uint8\n",
       "OCCUPATION_TYPE_Low-skill Laborers         uint8\n",
       "OCCUPATION_TYPE_Managers                   uint8\n",
       "OCCUPATION_TYPE_Medicine staff             uint8\n",
       "OCCUPATION_TYPE_Private service staff      uint8\n",
       "OCCUPATION_TYPE_Realty agents              uint8\n",
       "OCCUPATION_TYPE_Sales staff                uint8\n",
       "OCCUPATION_TYPE_Secretaries                uint8\n",
       "OCCUPATION_TYPE_Security staff             uint8\n",
       "OCCUPATION_TYPE_Unknown                    uint8\n",
       "OCCUPATION_TYPE_Waiters/barmen staff       uint8\n",
       "MONTHS_BALANCE                           float64\n",
       "CREDIT_RATIO                             float64\n",
       "STATUS_0                                 float64\n",
       "STATUS_1                                 float64\n",
       "STATUS_2                                 float64\n",
       "STATUS_3                                 float64\n",
       "STATUS_4                                 float64\n",
       "STATUS_5                                 float64\n",
       "STATUS_C                                 float64\n",
       "STATUS_X                                 float64\n",
       "Length: 75, dtype: object"
      ]
     },
     "execution_count": 12,
     "metadata": {},
     "output_type": "execute_result"
    }
   ],
   "source": [
    "# resetting index before scaling\n",
    "df_full_info.reset_index(inplace=True, drop=True)\n",
    "\n",
    "df_full_info.dtypes"
   ]
  },
  {
   "cell_type": "code",
   "execution_count": 13,
   "metadata": {
    "ExecuteTime": {
     "end_time": "2020-03-27T21:11:13.236630Z",
     "start_time": "2020-03-27T21:11:13.028025Z"
    }
   },
   "outputs": [
    {
     "data": {
      "text/plain": [
       "Series([], dtype: int64)"
      ]
     },
     "execution_count": 13,
     "metadata": {},
     "output_type": "execute_result"
    }
   ],
   "source": [
    "df_full_info.isna().sum()[df_full_info.isna().sum() >0]"
   ]
  },
  {
   "cell_type": "code",
   "execution_count": 14,
   "metadata": {
    "ExecuteTime": {
     "end_time": "2020-03-27T21:11:13.517605Z",
     "start_time": "2020-03-27T21:11:13.266687Z"
    }
   },
   "outputs": [],
   "source": [
    "numerical_features = df_full_info.select_dtypes(\n",
    "    include = [\"int64\", \"float64\"]).drop(\"TARGET\", axis=1)\n",
    "categorical_features = df_full_info.select_dtypes(\n",
    "    exclude = [\"int\", \"float\"])"
   ]
  },
  {
   "cell_type": "code",
   "execution_count": 15,
   "metadata": {
    "ExecuteTime": {
     "end_time": "2020-03-27T21:11:13.567015Z",
     "start_time": "2020-03-27T21:11:13.559696Z"
    }
   },
   "outputs": [
    {
     "data": {
      "text/plain": [
       "(29623, 30)"
      ]
     },
     "execution_count": 15,
     "metadata": {},
     "output_type": "execute_result"
    }
   ],
   "source": [
    "numerical_features.shape"
   ]
  },
  {
   "cell_type": "code",
   "execution_count": null,
   "metadata": {},
   "outputs": [],
   "source": []
  },
  {
   "cell_type": "code",
   "execution_count": 16,
   "metadata": {
    "ExecuteTime": {
     "end_time": "2020-03-27T21:11:13.802805Z",
     "start_time": "2020-03-27T21:11:13.572695Z"
    }
   },
   "outputs": [],
   "source": [
    "from sklearn.preprocessing import StandardScaler\n",
    "\n",
    "\n",
    "#scaling numerical features\n",
    "scaler = StandardScaler()\n",
    "scaled_numerical = scaler.fit_transform(numerical_features)\n",
    "\n",
    "df_numerical = pd.DataFrame(data = scaled_numerical, columns=numerical_features.columns)\n",
    "\n",
    "df_full_info_scaled = pd.concat([df_full_info[\"TARGET\"],df_numerical, categorical_features], axis=1, sort=False)\n"
   ]
  },
  {
   "cell_type": "code",
   "execution_count": 17,
   "metadata": {
    "ExecuteTime": {
     "end_time": "2020-03-27T21:11:15.120401Z",
     "start_time": "2020-03-27T21:11:13.817791Z"
    }
   },
   "outputs": [
    {
     "name": "stdout",
     "output_type": "stream",
     "text": [
      "Stored 'df_full_info' (DataFrame)\n",
      "Stored 'df_full_info_scaled' (DataFrame)\n",
      "Stored 'df_all_rows' (DataFrame)\n"
     ]
    }
   ],
   "source": [
    "%store df_full_info\n",
    "%store df_full_info_scaled\n",
    "%store df_all_rows"
   ]
  },
  {
   "cell_type": "code",
   "execution_count": 18,
   "metadata": {
    "ExecuteTime": {
     "end_time": "2020-03-27T21:11:15.231649Z",
     "start_time": "2020-03-27T21:11:15.123321Z"
    }
   },
   "outputs": [
    {
     "data": {
      "text/html": [
       "<div>\n",
       "<style scoped>\n",
       "    .dataframe tbody tr th:only-of-type {\n",
       "        vertical-align: middle;\n",
       "    }\n",
       "\n",
       "    .dataframe tbody tr th {\n",
       "        vertical-align: top;\n",
       "    }\n",
       "\n",
       "    .dataframe thead th {\n",
       "        text-align: right;\n",
       "    }\n",
       "</style>\n",
       "<table border=\"1\" class=\"dataframe\">\n",
       "  <thead>\n",
       "    <tr style=\"text-align: right;\">\n",
       "      <th></th>\n",
       "      <th>CNT_CHILDREN</th>\n",
       "      <th>AMT_CREDIT</th>\n",
       "      <th>REGION_POPULATION_RELATIVE</th>\n",
       "      <th>DAYS_BIRTH</th>\n",
       "      <th>DAYS_EMPLOYED</th>\n",
       "      <th>DAYS_REGISTRATION</th>\n",
       "      <th>DAYS_ID_PUBLISH</th>\n",
       "      <th>FLAG_PHONE</th>\n",
       "      <th>FLAG_EMAIL</th>\n",
       "      <th>CNT_FAM_MEMBERS</th>\n",
       "      <th>...</th>\n",
       "      <th>MONTHS_BALANCE</th>\n",
       "      <th>CREDIT_RATIO</th>\n",
       "      <th>STATUS_0</th>\n",
       "      <th>STATUS_1</th>\n",
       "      <th>STATUS_2</th>\n",
       "      <th>STATUS_3</th>\n",
       "      <th>STATUS_4</th>\n",
       "      <th>STATUS_5</th>\n",
       "      <th>STATUS_C</th>\n",
       "      <th>STATUS_X</th>\n",
       "    </tr>\n",
       "    <tr>\n",
       "      <th>TARGET</th>\n",
       "      <th></th>\n",
       "      <th></th>\n",
       "      <th></th>\n",
       "      <th></th>\n",
       "      <th></th>\n",
       "      <th></th>\n",
       "      <th></th>\n",
       "      <th></th>\n",
       "      <th></th>\n",
       "      <th></th>\n",
       "      <th></th>\n",
       "      <th></th>\n",
       "      <th></th>\n",
       "      <th></th>\n",
       "      <th></th>\n",
       "      <th></th>\n",
       "      <th></th>\n",
       "      <th></th>\n",
       "      <th></th>\n",
       "      <th></th>\n",
       "      <th></th>\n",
       "    </tr>\n",
       "  </thead>\n",
       "  <tbody>\n",
       "    <tr>\n",
       "      <th>0</th>\n",
       "      <td>27124</td>\n",
       "      <td>27124</td>\n",
       "      <td>27124</td>\n",
       "      <td>27124</td>\n",
       "      <td>27124</td>\n",
       "      <td>27124</td>\n",
       "      <td>27124</td>\n",
       "      <td>27124</td>\n",
       "      <td>27124</td>\n",
       "      <td>27124</td>\n",
       "      <td>...</td>\n",
       "      <td>27124</td>\n",
       "      <td>27124</td>\n",
       "      <td>27124</td>\n",
       "      <td>27124</td>\n",
       "      <td>27124</td>\n",
       "      <td>27124</td>\n",
       "      <td>27124</td>\n",
       "      <td>27124</td>\n",
       "      <td>27124</td>\n",
       "      <td>27124</td>\n",
       "    </tr>\n",
       "    <tr>\n",
       "      <th>1</th>\n",
       "      <td>2499</td>\n",
       "      <td>2499</td>\n",
       "      <td>2499</td>\n",
       "      <td>2499</td>\n",
       "      <td>2499</td>\n",
       "      <td>2499</td>\n",
       "      <td>2499</td>\n",
       "      <td>2499</td>\n",
       "      <td>2499</td>\n",
       "      <td>2499</td>\n",
       "      <td>...</td>\n",
       "      <td>2499</td>\n",
       "      <td>2499</td>\n",
       "      <td>2499</td>\n",
       "      <td>2499</td>\n",
       "      <td>2499</td>\n",
       "      <td>2499</td>\n",
       "      <td>2499</td>\n",
       "      <td>2499</td>\n",
       "      <td>2499</td>\n",
       "      <td>2499</td>\n",
       "    </tr>\n",
       "  </tbody>\n",
       "</table>\n",
       "<p>2 rows × 74 columns</p>\n",
       "</div>"
      ],
      "text/plain": [
       "        CNT_CHILDREN  AMT_CREDIT  REGION_POPULATION_RELATIVE  DAYS_BIRTH  \\\n",
       "TARGET                                                                     \n",
       "0              27124       27124                       27124       27124   \n",
       "1               2499        2499                        2499        2499   \n",
       "\n",
       "        DAYS_EMPLOYED  DAYS_REGISTRATION  DAYS_ID_PUBLISH  FLAG_PHONE  \\\n",
       "TARGET                                                                  \n",
       "0               27124              27124            27124       27124   \n",
       "1                2499               2499             2499        2499   \n",
       "\n",
       "        FLAG_EMAIL  CNT_FAM_MEMBERS  ...  MONTHS_BALANCE  CREDIT_RATIO  \\\n",
       "TARGET                               ...                                 \n",
       "0            27124            27124  ...           27124         27124   \n",
       "1             2499             2499  ...            2499          2499   \n",
       "\n",
       "        STATUS_0  STATUS_1  STATUS_2  STATUS_3  STATUS_4  STATUS_5  STATUS_C  \\\n",
       "TARGET                                                                         \n",
       "0          27124     27124     27124     27124     27124     27124     27124   \n",
       "1           2499      2499      2499      2499      2499      2499      2499   \n",
       "\n",
       "        STATUS_X  \n",
       "TARGET            \n",
       "0          27124  \n",
       "1           2499  \n",
       "\n",
       "[2 rows x 74 columns]"
      ]
     },
     "execution_count": 18,
     "metadata": {},
     "output_type": "execute_result"
    }
   ],
   "source": [
    "df_full_info.groupby(\"TARGET\").count()"
   ]
  },
  {
   "cell_type": "code",
   "execution_count": null,
   "metadata": {},
   "outputs": [],
   "source": []
  },
  {
   "cell_type": "code",
   "execution_count": null,
   "metadata": {},
   "outputs": [],
   "source": []
  },
  {
   "cell_type": "code",
   "execution_count": null,
   "metadata": {},
   "outputs": [],
   "source": []
  }
 ],
 "metadata": {
  "kernelspec": {
   "display_name": "Python [conda env:nf] *",
   "language": "python",
   "name": "conda-env-nf-py"
  },
  "language_info": {
   "codemirror_mode": {
    "name": "ipython",
    "version": 3
   },
   "file_extension": ".py",
   "mimetype": "text/x-python",
   "name": "python",
   "nbconvert_exporter": "python",
   "pygments_lexer": "ipython3",
   "version": "3.6.10"
  },
  "toc": {
   "base_numbering": 1,
   "nav_menu": {},
   "number_sections": true,
   "sideBar": true,
   "skip_h1_title": false,
   "title_cell": "Table of Contents",
   "title_sidebar": "Contents",
   "toc_cell": false,
   "toc_position": {},
   "toc_section_display": true,
   "toc_window_display": false
  }
 },
 "nbformat": 4,
 "nbformat_minor": 4
}
