{
 "cells": [
  {
   "cell_type": "code",
   "execution_count": 1,
   "metadata": {
    "ExecuteTime": {
     "end_time": "2020-03-27T21:10:25.328358Z",
     "start_time": "2020-03-27T21:10:23.628537Z"
    }
   },
   "outputs": [],
   "source": [
    "import pandas as pd\n",
    "import numpy as np\n",
    "import seaborn as sn"
   ]
  },
  {
   "cell_type": "code",
   "execution_count": 2,
   "metadata": {
    "ExecuteTime": {
     "end_time": "2020-03-27T21:10:41.679358Z",
     "start_time": "2020-03-27T21:10:25.330282Z"
    }
   },
   "outputs": [],
   "source": [
    "df = pd.read_csv(\"data/credit_card_balance.csv\")"
   ]
  },
  {
   "cell_type": "code",
   "execution_count": 3,
   "metadata": {
    "ExecuteTime": {
     "end_time": "2020-03-27T21:10:41.698781Z",
     "start_time": "2020-03-27T21:10:41.687015Z"
    }
   },
   "outputs": [
    {
     "data": {
      "text/plain": [
       "(3840312, 23)"
      ]
     },
     "execution_count": 3,
     "metadata": {},
     "output_type": "execute_result"
    }
   ],
   "source": [
    "df.shape"
   ]
  },
  {
   "cell_type": "code",
   "execution_count": 4,
   "metadata": {
    "ExecuteTime": {
     "end_time": "2020-03-27T21:10:41.712438Z",
     "start_time": "2020-03-27T21:10:41.704738Z"
    }
   },
   "outputs": [
    {
     "data": {
      "text/plain": [
       "Index(['SK_ID_PREV', 'SK_ID_CURR', 'MONTHS_BALANCE', 'AMT_BALANCE',\n",
       "       'AMT_CREDIT_LIMIT_ACTUAL', 'AMT_DRAWINGS_ATM_CURRENT',\n",
       "       'AMT_DRAWINGS_CURRENT', 'AMT_DRAWINGS_OTHER_CURRENT',\n",
       "       'AMT_DRAWINGS_POS_CURRENT', 'AMT_INST_MIN_REGULARITY',\n",
       "       'AMT_PAYMENT_CURRENT', 'AMT_PAYMENT_TOTAL_CURRENT',\n",
       "       'AMT_RECEIVABLE_PRINCIPAL', 'AMT_RECIVABLE', 'AMT_TOTAL_RECEIVABLE',\n",
       "       'CNT_DRAWINGS_ATM_CURRENT', 'CNT_DRAWINGS_CURRENT',\n",
       "       'CNT_DRAWINGS_OTHER_CURRENT', 'CNT_DRAWINGS_POS_CURRENT',\n",
       "       'CNT_INSTALMENT_MATURE_CUM', 'NAME_CONTRACT_STATUS', 'SK_DPD',\n",
       "       'SK_DPD_DEF'],\n",
       "      dtype='object')"
      ]
     },
     "execution_count": 4,
     "metadata": {},
     "output_type": "execute_result"
    }
   ],
   "source": [
    "df.columns"
   ]
  },
  {
   "cell_type": "code",
   "execution_count": 5,
   "metadata": {
    "ExecuteTime": {
     "end_time": "2020-03-27T21:10:41.723355Z",
     "start_time": "2020-03-27T21:10:41.718338Z"
    },
    "scrolled": false
   },
   "outputs": [],
   "source": [
    "#import missingno as msno\n",
    "#msno.matrix(df)"
   ]
  },
  {
   "cell_type": "code",
   "execution_count": 6,
   "metadata": {
    "ExecuteTime": {
     "end_time": "2020-03-27T21:10:44.565790Z",
     "start_time": "2020-03-27T21:10:41.728384Z"
    }
   },
   "outputs": [],
   "source": [
    "df.dropna(inplace=True, subset= [\"AMT_BALANCE\",\"AMT_CREDIT_LIMIT_ACTUAL\"])"
   ]
  },
  {
   "cell_type": "code",
   "execution_count": 7,
   "metadata": {
    "ExecuteTime": {
     "end_time": "2020-03-27T21:10:47.564127Z",
     "start_time": "2020-03-27T21:10:44.576885Z"
    }
   },
   "outputs": [],
   "source": [
    "\n",
    "df[\"CREDIT_RATIO\"] = df[\"AMT_BALANCE\"].div(df[\"AMT_CREDIT_LIMIT_ACTUAL\"]) \n",
    "df.loc[~np.isfinite(df['CREDIT_RATIO']),\"CREDIT_RATIO\"] = 0 # Or = 0 per part a) of question.\n"
   ]
  },
  {
   "cell_type": "code",
   "execution_count": null,
   "metadata": {
    "ExecuteTime": {
     "end_time": "2020-03-25T19:30:56.857699Z",
     "start_time": "2020-03-25T19:30:46.719407Z"
    }
   },
   "outputs": [],
   "source": []
  },
  {
   "cell_type": "code",
   "execution_count": 8,
   "metadata": {
    "ExecuteTime": {
     "end_time": "2020-03-27T21:10:54.216040Z",
     "start_time": "2020-03-27T21:10:47.566450Z"
    }
   },
   "outputs": [],
   "source": [
    "df = df.groupby(\"SK_ID_CURR\", as_index=False).mean()"
   ]
  },
  {
   "cell_type": "code",
   "execution_count": 9,
   "metadata": {
    "ExecuteTime": {
     "end_time": "2020-03-27T21:10:54.251666Z",
     "start_time": "2020-03-27T21:10:54.246052Z"
    }
   },
   "outputs": [],
   "source": [
    "#df.replace([np.inf, -np.inf], np.nan).dropna(inplace=True)\n"
   ]
  },
  {
   "cell_type": "code",
   "execution_count": 10,
   "metadata": {
    "ExecuteTime": {
     "end_time": "2020-03-27T21:10:54.271633Z",
     "start_time": "2020-03-27T21:10:54.254600Z"
    }
   },
   "outputs": [],
   "source": [
    "#extract interesting columns\n",
    "\n",
    "df = df[[\"SK_ID_CURR\",\"MONTHS_BALANCE\",\"CREDIT_RATIO\"]]\n"
   ]
  },
  {
   "cell_type": "code",
   "execution_count": 11,
   "metadata": {
    "ExecuteTime": {
     "end_time": "2020-03-27T21:10:54.304609Z",
     "start_time": "2020-03-27T21:10:54.274213Z"
    }
   },
   "outputs": [
    {
     "data": {
      "text/html": [
       "<div>\n",
       "<style scoped>\n",
       "    .dataframe tbody tr th:only-of-type {\n",
       "        vertical-align: middle;\n",
       "    }\n",
       "\n",
       "    .dataframe tbody tr th {\n",
       "        vertical-align: top;\n",
       "    }\n",
       "\n",
       "    .dataframe thead th {\n",
       "        text-align: right;\n",
       "    }\n",
       "</style>\n",
       "<table border=\"1\" class=\"dataframe\">\n",
       "  <thead>\n",
       "    <tr style=\"text-align: right;\">\n",
       "      <th></th>\n",
       "      <th>SK_ID_CURR</th>\n",
       "      <th>MONTHS_BALANCE</th>\n",
       "      <th>CREDIT_RATIO</th>\n",
       "    </tr>\n",
       "  </thead>\n",
       "  <tbody>\n",
       "  </tbody>\n",
       "</table>\n",
       "</div>"
      ],
      "text/plain": [
       "Empty DataFrame\n",
       "Columns: [SK_ID_CURR, MONTHS_BALANCE, CREDIT_RATIO]\n",
       "Index: []"
      ]
     },
     "execution_count": 11,
     "metadata": {},
     "output_type": "execute_result"
    }
   ],
   "source": [
    "df.loc[~np.isfinite(df['CREDIT_RATIO'])]"
   ]
  },
  {
   "cell_type": "code",
   "execution_count": 12,
   "metadata": {
    "ExecuteTime": {
     "end_time": "2020-03-27T21:10:54.329493Z",
     "start_time": "2020-03-27T21:10:54.310652Z"
    }
   },
   "outputs": [],
   "source": [
    "# get dummies for categorical data and drop first column for independency\n",
    "\n",
    "df = pd.get_dummies(df, drop_first=True)"
   ]
  },
  {
   "cell_type": "code",
   "execution_count": 13,
   "metadata": {
    "ExecuteTime": {
     "end_time": "2020-03-27T21:10:54.343652Z",
     "start_time": "2020-03-27T21:10:54.332136Z"
    }
   },
   "outputs": [
    {
     "data": {
      "text/plain": [
       "SK_ID_CURR          int64\n",
       "MONTHS_BALANCE    float64\n",
       "CREDIT_RATIO      float64\n",
       "dtype: object"
      ]
     },
     "execution_count": 13,
     "metadata": {},
     "output_type": "execute_result"
    }
   ],
   "source": [
    "# resetting index before scaling\n",
    "df.reset_index(inplace=True, drop=True)\n",
    "\n",
    "df.dtypes"
   ]
  },
  {
   "cell_type": "code",
   "execution_count": 14,
   "metadata": {
    "ExecuteTime": {
     "end_time": "2020-03-27T21:10:54.356335Z",
     "start_time": "2020-03-27T21:10:54.347459Z"
    }
   },
   "outputs": [],
   "source": [
    "numerical_features = df[[\"MONTHS_BALANCE\"]]\n",
    "categorical_features = df[[\"SK_ID_CURR\", \"CREDIT_RATIO\"]]"
   ]
  },
  {
   "cell_type": "code",
   "execution_count": 15,
   "metadata": {
    "ExecuteTime": {
     "end_time": "2020-03-27T21:10:54.462081Z",
     "start_time": "2020-03-27T21:10:54.358583Z"
    }
   },
   "outputs": [],
   "source": [
    "from sklearn.preprocessing import MinMaxScaler\n",
    "\n",
    "\n",
    "#scaling numerical features\n",
    "scaler = MinMaxScaler()\n",
    "scaled_numerical = scaler.fit_transform(numerical_features)\n",
    "\n",
    "df_numerical = pd.DataFrame(data = scaled_numerical, columns=numerical_features.columns)\n",
    "\n",
    "df_credit_scaled = pd.concat([df_numerical, categorical_features], axis=1, sort=False)\n",
    "\n"
   ]
  },
  {
   "cell_type": "code",
   "execution_count": 16,
   "metadata": {
    "ExecuteTime": {
     "end_time": "2020-03-27T21:10:54.522467Z",
     "start_time": "2020-03-27T21:10:54.465113Z"
    }
   },
   "outputs": [
    {
     "name": "stdout",
     "output_type": "stream",
     "text": [
      "Stored 'df_credit_scaled' (DataFrame)\n",
      "Stored 'df_credit' (DataFrame)\n"
     ]
    }
   ],
   "source": [
    "df_credit = df\n",
    "%store df_credit_scaled\n",
    "%store df_credit"
   ]
  },
  {
   "cell_type": "code",
   "execution_count": null,
   "metadata": {
    "ExecuteTime": {
     "end_time": "2020-03-25T19:32:05.292817Z",
     "start_time": "2020-03-25T19:32:05.284248Z"
    }
   },
   "outputs": [],
   "source": []
  },
  {
   "cell_type": "code",
   "execution_count": null,
   "metadata": {},
   "outputs": [],
   "source": []
  }
 ],
 "metadata": {
  "kernelspec": {
   "display_name": "Python [conda env:nf] *",
   "language": "python",
   "name": "conda-env-nf-py"
  },
  "language_info": {
   "codemirror_mode": {
    "name": "ipython",
    "version": 3
   },
   "file_extension": ".py",
   "mimetype": "text/x-python",
   "name": "python",
   "nbconvert_exporter": "python",
   "pygments_lexer": "ipython3",
   "version": "3.6.10"
  },
  "toc": {
   "base_numbering": 1,
   "nav_menu": {},
   "number_sections": true,
   "sideBar": true,
   "skip_h1_title": false,
   "title_cell": "Table of Contents",
   "title_sidebar": "Contents",
   "toc_cell": false,
   "toc_position": {},
   "toc_section_display": true,
   "toc_window_display": false
  }
 },
 "nbformat": 4,
 "nbformat_minor": 4
}
