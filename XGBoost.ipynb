{
 "cells": [
  {
   "cell_type": "code",
   "execution_count": 1,
   "metadata": {
    "ExecuteTime": {
     "end_time": "2020-03-27T21:11:36.017346Z",
     "start_time": "2020-03-27T21:11:28.961798Z"
    }
   },
   "outputs": [
    {
     "name": "stderr",
     "output_type": "stream",
     "text": [
      "Using TensorFlow backend.\n"
     ]
    }
   ],
   "source": [
    "import pandas as pd\n",
    "import numpy as np\n",
    "import dtale\n",
    "from sklearn.model_selection import train_test_split\n",
    "import seaborn as sn\n",
    "import matplotlib.pyplot as plt\n",
    "from xgboost import XGBClassifier\n",
    "from sklearn.metrics import confusion_matrix\n",
    "from sklearn.metrics import classification_report\n",
    "\n",
    "from imblearn.under_sampling import RandomUnderSampler\n",
    "from imblearn.over_sampling import RandomOverSampler"
   ]
  },
  {
   "cell_type": "code",
   "execution_count": 11,
   "metadata": {
    "ExecuteTime": {
     "end_time": "2020-03-27T21:39:12.039577Z",
     "start_time": "2020-03-27T21:39:11.986160Z"
    }
   },
   "outputs": [],
   "source": [
    "# import from df from other notebook\n",
    "%store -r df_scaled\n",
    "%store -r df_full_info_scaled\n"
   ]
  },
  {
   "cell_type": "code",
   "execution_count": 12,
   "metadata": {
    "ExecuteTime": {
     "end_time": "2020-03-27T21:39:12.373043Z",
     "start_time": "2020-03-27T21:39:12.368658Z"
    }
   },
   "outputs": [],
   "source": [
    "df_scaled = df_full_info_scaled"
   ]
  },
  {
   "cell_type": "code",
   "execution_count": 13,
   "metadata": {
    "ExecuteTime": {
     "end_time": "2020-03-27T21:39:14.275784Z",
     "start_time": "2020-03-27T21:39:14.262262Z"
    }
   },
   "outputs": [],
   "source": [
    "# get X and y values\n",
    "X = df_scaled.drop(\"TARGET\", axis=1)\n",
    "y = df_scaled[\"TARGET\"]\n",
    "\n"
   ]
  },
  {
   "cell_type": "code",
   "execution_count": null,
   "metadata": {
    "ExecuteTime": {
     "end_time": "2020-03-25T19:51:27.309814Z",
     "start_time": "2020-03-25T19:51:27.301590Z"
    }
   },
   "outputs": [],
   "source": []
  },
  {
   "cell_type": "code",
   "execution_count": 14,
   "metadata": {
    "ExecuteTime": {
     "end_time": "2020-03-27T21:39:17.996056Z",
     "start_time": "2020-03-27T21:39:17.918371Z"
    }
   },
   "outputs": [],
   "source": [
    "# splitting while keeping the proportion of the TARGET\n",
    "X_train, X_test, y_train, y_test = train_test_split(X,y,stratify = y, random_state = 42)\n",
    "\n",
    "\n",
    "\n",
    "balance_under = RandomUnderSampler('auto', random_state=42)\n",
    "balance_df_under = balance_under.fit_resample(X_train,y_train)\n",
    "\n",
    "balance_df = balance_df_under\n",
    "X_train = balance_df[0]\n",
    "y_train = np.array(balance_df[1])\n"
   ]
  },
  {
   "cell_type": "code",
   "execution_count": 33,
   "metadata": {
    "ExecuteTime": {
     "end_time": "2020-03-25T20:06:40.665884Z",
     "start_time": "2020-03-25T20:06:15.891120Z"
    }
   },
   "outputs": [
    {
     "data": {
      "text/plain": [
       "XGBClassifier(base_score=0.5, booster='gbtree', colsample_bylevel=1,\n",
       "              colsample_bynode=1, colsample_bytree=1, gamma=0,\n",
       "              learning_rate=0.1, max_delta_step=0, max_depth=3,\n",
       "              min_child_weight=1, missing=None, n_estimators=100, n_jobs=1,\n",
       "              nthread=None, objective='binary:logistic', random_state=0,\n",
       "              reg_alpha=0, reg_lambda=1, scale_pos_weight=1, seed=None,\n",
       "              silent=None, subsample=1, verbosity=1)"
      ]
     },
     "execution_count": 33,
     "metadata": {},
     "output_type": "execute_result"
    }
   ],
   "source": [
    "xgb_model = XGBClassifier()\n",
    "xgb_model.fit(X_train,y_train)"
   ]
  },
  {
   "cell_type": "code",
   "execution_count": 34,
   "metadata": {
    "ExecuteTime": {
     "end_time": "2020-03-25T20:06:40.726821Z",
     "start_time": "2020-03-25T20:06:40.670152Z"
    }
   },
   "outputs": [],
   "source": [
    "y_pred = xgb_model.predict(X_test)\n"
   ]
  },
  {
   "cell_type": "code",
   "execution_count": 35,
   "metadata": {
    "ExecuteTime": {
     "end_time": "2020-03-25T20:06:40.741752Z",
     "start_time": "2020-03-25T20:06:40.729149Z"
    }
   },
   "outputs": [
    {
     "data": {
      "text/plain": [
       "array([[4797, 1984],\n",
       "       [ 212,  413]])"
      ]
     },
     "execution_count": 35,
     "metadata": {},
     "output_type": "execute_result"
    }
   ],
   "source": [
    "cm = confusion_matrix(y_test,y_pred)\n",
    "cm"
   ]
  },
  {
   "cell_type": "code",
   "execution_count": 36,
   "metadata": {
    "ExecuteTime": {
     "end_time": "2020-03-25T20:06:40.752715Z",
     "start_time": "2020-03-25T20:06:40.744417Z"
    }
   },
   "outputs": [
    {
     "data": {
      "text/plain": [
       "0.6841088924937325"
      ]
     },
     "execution_count": 36,
     "metadata": {},
     "output_type": "execute_result"
    }
   ],
   "source": [
    "from sklearn.metrics import roc_auc_score\n",
    "\n",
    "roc_auc_score(y_test, y_pred)"
   ]
  },
  {
   "cell_type": "code",
   "execution_count": 6,
   "metadata": {
    "ExecuteTime": {
     "end_time": "2020-03-27T21:15:02.888447Z",
     "start_time": "2020-03-27T21:15:02.883934Z"
    }
   },
   "outputs": [],
   "source": [
    "from numpy import mean\n",
    "from sklearn.model_selection import GridSearchCV\n",
    "from sklearn.model_selection import RepeatedStratifiedKFold\n"
   ]
  },
  {
   "cell_type": "code",
   "execution_count": 15,
   "metadata": {
    "ExecuteTime": {
     "end_time": "2020-03-27T21:41:07.883813Z",
     "start_time": "2020-03-27T21:39:38.277383Z"
    }
   },
   "outputs": [
    {
     "name": "stdout",
     "output_type": "stream",
     "text": [
      "Best: 0.740257 using {'scale_pos_weight': 0.5}\n",
      "0.740257 (0.019408) with: {'scale_pos_weight': 0.5}\n",
      "0.738247 (0.020215) with: {'scale_pos_weight': 1}\n",
      "0.738624 (0.020219) with: {'scale_pos_weight': 1.5}\n",
      "0.737959 (0.021471) with: {'scale_pos_weight': 2}\n",
      "0.738513 (0.021839) with: {'scale_pos_weight': 3}\n",
      "0.737774 (0.022118) with: {'scale_pos_weight': 4}\n"
     ]
    }
   ],
   "source": [
    "#define model\n",
    "model = XGBClassifier()\n",
    "\n",
    "# define grid\n",
    "weights = [0.5 , 1 , 1.5 , 2 , 3 , 4]\n",
    "param_grid = dict(scale_pos_weight=weights)\n",
    "# define evaluation procedure\n",
    "cv = RepeatedStratifiedKFold(n_splits=10, n_repeats=3, random_state=1)\n",
    "# define grid search\n",
    "grid = GridSearchCV(estimator=model, param_grid=param_grid, n_jobs=-1, cv=cv, scoring='roc_auc')\n",
    "# execute the grid search\n",
    "grid_result = grid.fit(X_train, y_train)\n",
    "# report the best configuration\n",
    "print(\"Best: %f using %s\" % (grid_result.best_score_, grid_result.best_params_))\n",
    "# report all configurations\n",
    "means = grid_result.cv_results_['mean_test_score']\n",
    "stds = grid_result.cv_results_['std_test_score']\n",
    "params = grid_result.cv_results_['params']\n",
    "for mean, stdev, param in zip(means, stds, params):\n",
    "    print(\"%f (%f) with: %r\" % (mean, stdev, param))"
   ]
  },
  {
   "cell_type": "code",
   "execution_count": null,
   "metadata": {},
   "outputs": [],
   "source": [
    "from sklearn.metrics import roc_auc_score\n",
    "\n",
    "y_prob = grid_result.predict_proba(X_test)[:,1]\n",
    "\n",
    "roc_auc_score(y_test, y_pred)"
   ]
  }
 ],
 "metadata": {
  "kernelspec": {
   "display_name": "Python [conda env:nf] *",
   "language": "python",
   "name": "conda-env-nf-py"
  },
  "language_info": {
   "codemirror_mode": {
    "name": "ipython",
    "version": 3
   },
   "file_extension": ".py",
   "mimetype": "text/x-python",
   "name": "python",
   "nbconvert_exporter": "python",
   "pygments_lexer": "ipython3",
   "version": "3.6.10"
  },
  "toc": {
   "base_numbering": 1,
   "nav_menu": {},
   "number_sections": true,
   "sideBar": true,
   "skip_h1_title": false,
   "title_cell": "Table of Contents",
   "title_sidebar": "Contents",
   "toc_cell": false,
   "toc_position": {},
   "toc_section_display": true,
   "toc_window_display": false
  }
 },
 "nbformat": 4,
 "nbformat_minor": 4
}
